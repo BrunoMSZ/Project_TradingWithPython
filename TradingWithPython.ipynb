{
 "cells": [
  {
   "cell_type": "code",
   "execution_count": null,
   "metadata": {},
   "outputs": [],
   "source": [
    "#PROJETO TRADING PYTHON"
   ]
  },
  {
   "cell_type": "code",
   "execution_count": 1,
   "metadata": {},
   "outputs": [],
   "source": [
    "#Bibliotecas\n",
    "import pandas as pd\n",
    "import yfinance as yf\n",
    "import matplotlib.pyplot as plt\n",
    "import numpy as np\n",
    "\n",
    "\n",
    "pd.options.mode.chained_assignment = None #Retirar alguns avisos\n"
   ]
  },
  {
   "cell_type": "code",
   "execution_count": null,
   "metadata": {},
   "outputs": [],
   "source": [
    "#Ativo escolhido\n",
    "try:\n",
    "    ativo = input(\"Digite um ativo\")\n",
    "    #Alterar buscando dentro o yahoo finance(código de negociação). Exemplo.: 'PETR4.SA'  \n",
    "    dataInicio = input(\"Digite uma data de origem do ativo. Ex.:(2000-12-31) ---> Se não quiser adicionar data digite (nada)\")\n",
    "       \n",
    "except(RuntimeError):\n",
    "    pass"
   ]
  },
  {
   "cell_type": "code",
   "execution_count": 21,
   "metadata": {},
   "outputs": [
    {
     "name": "stderr",
     "output_type": "stream",
     "text": [
      "[*********************100%%**********************]  1 of 1 completed"
     ]
    },
    {
     "name": "stderr",
     "output_type": "stream",
     "text": [
      "\n"
     ]
    },
    {
     "data": {
      "text/html": [
       "<div>\n",
       "<style scoped>\n",
       "    .dataframe tbody tr th:only-of-type {\n",
       "        vertical-align: middle;\n",
       "    }\n",
       "\n",
       "    .dataframe tbody tr th {\n",
       "        vertical-align: top;\n",
       "    }\n",
       "\n",
       "    .dataframe thead th {\n",
       "        text-align: right;\n",
       "    }\n",
       "</style>\n",
       "<table border=\"1\" class=\"dataframe\">\n",
       "  <thead>\n",
       "    <tr style=\"text-align: right;\">\n",
       "      <th></th>\n",
       "      <th>Open</th>\n",
       "      <th>High</th>\n",
       "      <th>Low</th>\n",
       "      <th>Close</th>\n",
       "      <th>Adj Close</th>\n",
       "      <th>Volume</th>\n",
       "    </tr>\n",
       "    <tr>\n",
       "      <th>Date</th>\n",
       "      <th></th>\n",
       "      <th></th>\n",
       "      <th></th>\n",
       "      <th></th>\n",
       "      <th></th>\n",
       "      <th></th>\n",
       "    </tr>\n",
       "  </thead>\n",
       "  <tbody>\n",
       "    <tr>\n",
       "      <th>2017-11-09</th>\n",
       "      <td>308.644989</td>\n",
       "      <td>329.451996</td>\n",
       "      <td>307.056000</td>\n",
       "      <td>320.884003</td>\n",
       "      <td>320.884003</td>\n",
       "      <td>893249984</td>\n",
       "    </tr>\n",
       "    <tr>\n",
       "      <th>2017-11-10</th>\n",
       "      <td>320.670990</td>\n",
       "      <td>324.717987</td>\n",
       "      <td>294.541992</td>\n",
       "      <td>299.252991</td>\n",
       "      <td>299.252991</td>\n",
       "      <td>885985984</td>\n",
       "    </tr>\n",
       "    <tr>\n",
       "      <th>2017-11-11</th>\n",
       "      <td>298.585999</td>\n",
       "      <td>319.453003</td>\n",
       "      <td>298.191986</td>\n",
       "      <td>314.681000</td>\n",
       "      <td>314.681000</td>\n",
       "      <td>842300992</td>\n",
       "    </tr>\n",
       "    <tr>\n",
       "      <th>2017-11-12</th>\n",
       "      <td>314.690002</td>\n",
       "      <td>319.153015</td>\n",
       "      <td>298.513000</td>\n",
       "      <td>307.907990</td>\n",
       "      <td>307.907990</td>\n",
       "      <td>1613479936</td>\n",
       "    </tr>\n",
       "    <tr>\n",
       "      <th>2017-11-13</th>\n",
       "      <td>307.024994</td>\n",
       "      <td>328.415009</td>\n",
       "      <td>307.024994</td>\n",
       "      <td>316.716003</td>\n",
       "      <td>316.716003</td>\n",
       "      <td>1041889984</td>\n",
       "    </tr>\n",
       "    <tr>\n",
       "      <th>...</th>\n",
       "      <td>...</td>\n",
       "      <td>...</td>\n",
       "      <td>...</td>\n",
       "      <td>...</td>\n",
       "      <td>...</td>\n",
       "      <td>...</td>\n",
       "    </tr>\n",
       "    <tr>\n",
       "      <th>2023-12-27</th>\n",
       "      <td>2231.393066</td>\n",
       "      <td>2392.608643</td>\n",
       "      <td>2215.140381</td>\n",
       "      <td>2378.739990</td>\n",
       "      <td>2378.739990</td>\n",
       "      <td>14161342927</td>\n",
       "    </tr>\n",
       "    <tr>\n",
       "      <th>2023-12-28</th>\n",
       "      <td>2380.200684</td>\n",
       "      <td>2445.017578</td>\n",
       "      <td>2338.703857</td>\n",
       "      <td>2347.566162</td>\n",
       "      <td>2347.566162</td>\n",
       "      <td>15660799060</td>\n",
       "    </tr>\n",
       "    <tr>\n",
       "      <th>2023-12-29</th>\n",
       "      <td>2346.843750</td>\n",
       "      <td>2386.004639</td>\n",
       "      <td>2262.975830</td>\n",
       "      <td>2300.690674</td>\n",
       "      <td>2300.690674</td>\n",
       "      <td>12536968996</td>\n",
       "    </tr>\n",
       "    <tr>\n",
       "      <th>2023-12-30</th>\n",
       "      <td>2300.399658</td>\n",
       "      <td>2322.021484</td>\n",
       "      <td>2270.011963</td>\n",
       "      <td>2292.065430</td>\n",
       "      <td>2292.065430</td>\n",
       "      <td>6888195427</td>\n",
       "    </tr>\n",
       "    <tr>\n",
       "      <th>2023-12-31</th>\n",
       "      <td>2291.945312</td>\n",
       "      <td>2318.512939</td>\n",
       "      <td>2261.394287</td>\n",
       "      <td>2281.471191</td>\n",
       "      <td>2281.471191</td>\n",
       "      <td>6871481744</td>\n",
       "    </tr>\n",
       "  </tbody>\n",
       "</table>\n",
       "<p>2244 rows × 6 columns</p>\n",
       "</div>"
      ],
      "text/plain": [
       "                   Open         High          Low        Close    Adj Close  \\\n",
       "Date                                                                          \n",
       "2017-11-09   308.644989   329.451996   307.056000   320.884003   320.884003   \n",
       "2017-11-10   320.670990   324.717987   294.541992   299.252991   299.252991   \n",
       "2017-11-11   298.585999   319.453003   298.191986   314.681000   314.681000   \n",
       "2017-11-12   314.690002   319.153015   298.513000   307.907990   307.907990   \n",
       "2017-11-13   307.024994   328.415009   307.024994   316.716003   316.716003   \n",
       "...                 ...          ...          ...          ...          ...   \n",
       "2023-12-27  2231.393066  2392.608643  2215.140381  2378.739990  2378.739990   \n",
       "2023-12-28  2380.200684  2445.017578  2338.703857  2347.566162  2347.566162   \n",
       "2023-12-29  2346.843750  2386.004639  2262.975830  2300.690674  2300.690674   \n",
       "2023-12-30  2300.399658  2322.021484  2270.011963  2292.065430  2292.065430   \n",
       "2023-12-31  2291.945312  2318.512939  2261.394287  2281.471191  2281.471191   \n",
       "\n",
       "                 Volume  \n",
       "Date                     \n",
       "2017-11-09    893249984  \n",
       "2017-11-10    885985984  \n",
       "2017-11-11    842300992  \n",
       "2017-11-12   1613479936  \n",
       "2017-11-13   1041889984  \n",
       "...                 ...  \n",
       "2023-12-27  14161342927  \n",
       "2023-12-28  15660799060  \n",
       "2023-12-29  12536968996  \n",
       "2023-12-30   6888195427  \n",
       "2023-12-31   6871481744  \n",
       "\n",
       "[2244 rows x 6 columns]"
      ]
     },
     "execution_count": 21,
     "metadata": {},
     "output_type": "execute_result"
    }
   ],
   "source": [
    "dataFim = \"2024-01-01\" \n",
    "if(dataInicio == \"nada\"):\n",
    "    dataInicio = \"2000-12-31\" #Pegar a partir da criação\n",
    "    dados_ativo = yf.download(ativo,dataInicio,dataFim)\n",
    "else:\n",
    "    dados_ativo = yf.download(ativo, dataInicio, dataFim) #ativo(var),DataInicio,DataFim\n",
    "dados_ativo"
   ]
  },
  {
   "cell_type": "code",
   "execution_count": null,
   "metadata": {},
   "outputs": [],
   "source": [
    "dados_ativo['Adj Close'].plot() #Capturar dados fechamento ajustado(adj Close)"
   ]
  },
  {
   "cell_type": "code",
   "execution_count": null,
   "metadata": {},
   "outputs": [],
   "source": [
    "#Calcular Retornos\n",
    "dados_ativo['retornos'] = dados_ativo['Adj Close'].pct_change().dropna() #Criar uma nova coluna que pega a coluna 'Adj Close' = retorno diário do Ativo\n",
    "dados_ativo"
   ]
  },
  {
   "cell_type": "code",
   "execution_count": null,
   "metadata": {},
   "outputs": [],
   "source": [
    "#TESTE\n",
    "retorno = -1\n",
    "filtrando_retorno = lambda x: x if x> 0 else 0 #lambda= retorna a ele mesmo, função auto-referente, x = valor de exemplo\n",
    "\n",
    "filtrando_retorno(retorno)"
   ]
  },
  {
   "cell_type": "code",
   "execution_count": null,
   "metadata": {},
   "outputs": [],
   "source": [
    "#Separar retornos Positivos e Negativos\n",
    "dados_ativo['retornos_positivos'] = dados_ativo['retornos'].apply(lambda x: x if x > 0 else 0) #Aplicando a funcao lambda para valores positivos\n",
    "dados_ativo['retornos_negativos'] = dados_ativo['retornos'].apply(lambda x: abs(x) if x < 0 else 0) #abs(x) = pega o valor absoluto\n",
    "\n",
    "dados_ativo"
   ]
  },
  {
   "cell_type": "code",
   "execution_count": null,
   "metadata": {},
   "outputs": [],
   "source": [
    "#Calcular média dos retornos positivos e negativos nos últimos 22 dias\n",
    "dados_ativo['media_retornos_positivos'] = dados_ativo['retornos_positivos'].rolling(window = 22).mean()#cria um coluna com uma janela de 22 dias e calcula a média\n",
    "dados_ativo['media_retornos_negativos'] = dados_ativo['retornos_negativos'].rolling(window = 22).mean()\n",
    "\n",
    "dados_ativo = dados_ativo.dropna() #Mostrar sem o NAN\n",
    "\n",
    "dados_ativo"
   ]
  },
  {
   "cell_type": "code",
   "execution_count": null,
   "metadata": {},
   "outputs": [],
   "source": [
    "#Calcular RSI\n",
    "#Fórmula = 100 - 100(1 + mediaRetornosPositivos/mediaRetornosNegativos)\n",
    "\n",
    "dados_ativo['RSI'] = (100 - 100/(1+ dados_ativo['media_retornos_positivos']/dados_ativo['media_retornos_negativos']))\n",
    "\n",
    "dados_ativo.head(50) #Printa 50 dados"
   ]
  },
  {
   "cell_type": "code",
   "execution_count": null,
   "metadata": {},
   "outputs": [],
   "source": [
    "#Sinal de compra e venda (abaixo de 30 = sinal de compra)\n",
    "dados_ativo.loc[dados_ativo['RSI'] < 30, 'compra'] = 'sim' #Verifica se o valor de RSI é maior ou menor que 30, sinalizando ou não a compra\n",
    "dados_ativo.loc[dados_ativo['RSI'] > 30, 'compra'] = 'nao' #.loc = localizar um valor\n",
    "\n",
    "dados_ativo"
   ]
  },
  {
   "cell_type": "code",
   "execution_count": null,
   "metadata": {},
   "outputs": [],
   "source": [
    "#Buscar datas de compra e de vendas\n",
    "datas_compra = []\n",
    "datas_venda = []\n",
    "\n",
    "for i in range(len(dados_ativo)):\n",
    "  print(i)\n",
    "\n",
    "  if \"sim\" in dados_ativo['compra'].iloc[i]: #se o sim está dentro dessa coluna, e então ele pegará os dados de abertura do próximo dia\n",
    "    datas_compra.append(dados_ativo.iloc[i+1].name) #.name = valor da coluna\n",
    "\n",
    "datas_compra"
   ]
  },
  {
   "cell_type": "code",
   "execution_count": null,
   "metadata": {},
   "outputs": [],
   "source": [
    "#Buscar datas de venda:\n",
    "#     Se valor de RSI está acima de 40\n",
    "#     10 dias de operação\n",
    "\n",
    "data_compra = []\n",
    "data_venda = []\n",
    "\n",
    "for i in range(len(dados_ativo)):\n",
    "\n",
    "    if \"sim\" in dados_ativo['compra'].iloc[i]:\n",
    "\n",
    "        data_compra.append(dados_ativo.iloc[i+1].name) # +1 porque a gente compra no preço de abertura do dia seguinte.\n",
    "\n",
    "        for j in range(1, 11):\n",
    "\n",
    "            if dados_ativo['RSI'].iloc[i + j] > 40: #vendo se nos proximos 10 dias o RSI passa de 40\n",
    "\n",
    "                data_venda.append(dados_ativo.iloc[i + j + 1].name) #vende no dia seguinte q bater 40\n",
    "                break\n",
    "\n",
    "            elif j == 10:\n",
    "                data_venda.append(dados_ativo.iloc[i + j + 1].name)\n",
    "\n",
    "\n",
    "\n",
    "data_venda"
   ]
  },
  {
   "cell_type": "code",
   "execution_count": null,
   "metadata": {},
   "outputs": [],
   "source": [
    "#Visualização de pontos de compra\n",
    "plt.figure(figsize = (12, 5))\n",
    "plt.scatter(dados_ativo.loc[data_compra].index, dados_ativo.loc[data_compra]['Adj Close'], marker = \"^\",c='g')\n",
    "plt.plot(dados_ativo['Adj Close'], alpha = 0.7)"
   ]
  },
  {
   "cell_type": "code",
   "execution_count": null,
   "metadata": {},
   "outputs": [],
   "source": [
    "lucros = dados_ativo.loc[data_venda]['Open'].values/dados_ativo.loc[data_compra]['Open'].values - 1\n",
    "\n",
    "lucros"
   ]
  },
  {
   "cell_type": "code",
   "execution_count": null,
   "metadata": {},
   "outputs": [],
   "source": [
    "operacoes_vencedoras = len(lucros[lucros > 0])/len(lucros)\n",
    "\n",
    "operacoes_vencedoras #Neste caso 58% dos casos a gente ganha aplicando tal modelo"
   ]
  },
  {
   "cell_type": "code",
   "execution_count": null,
   "metadata": {},
   "outputs": [],
   "source": [
    "media_ganhos = np.mean(lucros[lucros > 0])\n",
    "\n",
    "media_ganhos * 100 #7.02% média de ganho"
   ]
  },
  {
   "cell_type": "code",
   "execution_count": null,
   "metadata": {},
   "outputs": [],
   "source": [
    "media_perdas = abs(np.mean(lucros[lucros < 0]))\n",
    "\n",
    "media_perdas * 100 #5.93% média de perda"
   ]
  },
  {
   "cell_type": "code",
   "execution_count": null,
   "metadata": {},
   "outputs": [],
   "source": [
    "expectativa_matematica_modelo = (operacoes_vencedoras * media_ganhos) - ((1 - operacoes_vencedoras) * media_perdas)\n",
    "\n",
    "expectativa_matematica_modelo * 100 #Para cada operacao, quanto você irá ganhar (em relação a média de ganhos e a média de perdas), nesse exemplo.: 1.48%"
   ]
  },
  {
   "cell_type": "code",
   "execution_count": null,
   "metadata": {},
   "outputs": [],
   "source": [
    "performance_acumulada = (np.cumprod((1 + lucros)) - 1)\n",
    "\n",
    "performance_acumulada * 100 #acumulando os lucros (rentabilidade acumulada)"
   ]
  },
  {
   "cell_type": "code",
   "execution_count": null,
   "metadata": {},
   "outputs": [],
   "source": [
    "plt.figure(figsize = (12, 5))\n",
    "plt.plot(data_compra, performance_acumulada) #Visualização do lucro acumulado 12.: 1200% de valorização"
   ]
  },
  {
   "cell_type": "code",
   "execution_count": null,
   "metadata": {},
   "outputs": [],
   "source": [
    "retorno_buy_and_hold = dados_ativo['Adj Close'].iloc[-1]/dados_ativo['Adj Close'].iloc[0] - 1\n",
    "\n",
    "retorno_buy_and_hold * 100 #Quanto rendeu desde da data de inicio"
   ]
  }
 ],
 "metadata": {
  "kernelspec": {
   "display_name": "Python 3",
   "language": "python",
   "name": "python3"
  },
  "language_info": {
   "codemirror_mode": {
    "name": "ipython",
    "version": 3
   },
   "file_extension": ".py",
   "mimetype": "text/x-python",
   "name": "python",
   "nbconvert_exporter": "python",
   "pygments_lexer": "ipython3",
   "version": "3.12.0"
  }
 },
 "nbformat": 4,
 "nbformat_minor": 2
}
