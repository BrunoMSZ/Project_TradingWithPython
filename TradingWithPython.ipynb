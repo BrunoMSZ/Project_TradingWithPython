{
 "cells": [
  {
   "cell_type": "code",
   "execution_count": null,
   "metadata": {},
   "outputs": [],
   "source": [
    "#PROJETO TRADING PYTHON"
   ]
  },
  {
   "cell_type": "code",
   "execution_count": 7,
   "metadata": {},
   "outputs": [],
   "source": [
    "#Bibliotecas\n",
    "import pandas as pd\n",
    "import yfinance as yf\n",
    "import matplotlib.pyplot as plt\n",
    "import numpy as np\n",
    "\n",
    "\n",
    "pd.options.mode.chained_assignment = None #Retirar alguns avisos\n"
   ]
  },
  {
   "cell_type": "code",
   "execution_count": 21,
   "metadata": {},
   "outputs": [
    {
     "data": {
      "text/plain": [
       "'2023-12-31'"
      ]
     },
     "execution_count": 21,
     "metadata": {},
     "output_type": "execute_result"
    }
   ],
   "source": [
    "#Ativo escolhido\n",
    "try:\n",
    "    ativo = input(\"Digite um ativo\")\n",
    "    #Alterar buscando dentro o yahoo finance(código de negociação). Exemplo.: 'PETR4.SA'  \n",
    "    dataInicio = input(\"Digite uma data de origem do ativo. Ex.:(2000-12-31) ---> Se não quiser adicionar data digite (nada)\")\n",
    "    dataFim = input(\"Digite uma data de origem do ativo. Ex.:(2023-12-31) ---> Se não quiser adicionar data digite (nada)\")\n",
    "    if(dataInicio == \"nada\"):\n",
    "        dataInicio = \"\"\n",
    "    if(dataFim == \"nada\"):\n",
    "        dataFim = \"\"\n",
    "    \n",
    "except(RuntimeError):\n",
    "    pass\n"
   ]
  },
  {
   "cell_type": "code",
   "execution_count": 22,
   "metadata": {},
   "outputs": [
    {
     "name": "stderr",
     "output_type": "stream",
     "text": [
      "[*********************100%%**********************]  1 of 1 completed\n"
     ]
    },
    {
     "data": {
      "text/html": [
       "<div>\n",
       "<style scoped>\n",
       "    .dataframe tbody tr th:only-of-type {\n",
       "        vertical-align: middle;\n",
       "    }\n",
       "\n",
       "    .dataframe tbody tr th {\n",
       "        vertical-align: top;\n",
       "    }\n",
       "\n",
       "    .dataframe thead th {\n",
       "        text-align: right;\n",
       "    }\n",
       "</style>\n",
       "<table border=\"1\" class=\"dataframe\">\n",
       "  <thead>\n",
       "    <tr style=\"text-align: right;\">\n",
       "      <th></th>\n",
       "      <th>Open</th>\n",
       "      <th>High</th>\n",
       "      <th>Low</th>\n",
       "      <th>Close</th>\n",
       "      <th>Adj Close</th>\n",
       "      <th>Volume</th>\n",
       "    </tr>\n",
       "    <tr>\n",
       "      <th>Date</th>\n",
       "      <th></th>\n",
       "      <th></th>\n",
       "      <th></th>\n",
       "      <th></th>\n",
       "      <th></th>\n",
       "      <th></th>\n",
       "    </tr>\n",
       "  </thead>\n",
       "  <tbody>\n",
       "    <tr>\n",
       "      <th>2001-01-01</th>\n",
       "      <td>5.722500</td>\n",
       "      <td>5.722500</td>\n",
       "      <td>5.722500</td>\n",
       "      <td>5.722500</td>\n",
       "      <td>1.412932</td>\n",
       "      <td>0</td>\n",
       "    </tr>\n",
       "    <tr>\n",
       "      <th>2001-01-02</th>\n",
       "      <td>5.725000</td>\n",
       "      <td>5.971250</td>\n",
       "      <td>5.725000</td>\n",
       "      <td>5.912500</td>\n",
       "      <td>1.459845</td>\n",
       "      <td>32521600</td>\n",
       "    </tr>\n",
       "    <tr>\n",
       "      <th>2001-01-03</th>\n",
       "      <td>5.887500</td>\n",
       "      <td>6.212500</td>\n",
       "      <td>5.825000</td>\n",
       "      <td>6.212500</td>\n",
       "      <td>1.533918</td>\n",
       "      <td>60508800</td>\n",
       "    </tr>\n",
       "    <tr>\n",
       "      <th>2001-01-04</th>\n",
       "      <td>6.216250</td>\n",
       "      <td>6.268750</td>\n",
       "      <td>6.196250</td>\n",
       "      <td>6.237500</td>\n",
       "      <td>1.540091</td>\n",
       "      <td>46118400</td>\n",
       "    </tr>\n",
       "    <tr>\n",
       "      <th>2001-01-05</th>\n",
       "      <td>6.250000</td>\n",
       "      <td>6.387500</td>\n",
       "      <td>6.162500</td>\n",
       "      <td>6.250000</td>\n",
       "      <td>1.543177</td>\n",
       "      <td>41360000</td>\n",
       "    </tr>\n",
       "    <tr>\n",
       "      <th>...</th>\n",
       "      <td>...</td>\n",
       "      <td>...</td>\n",
       "      <td>...</td>\n",
       "      <td>...</td>\n",
       "      <td>...</td>\n",
       "      <td>...</td>\n",
       "    </tr>\n",
       "    <tr>\n",
       "      <th>2023-12-21</th>\n",
       "      <td>36.669998</td>\n",
       "      <td>36.680000</td>\n",
       "      <td>36.070000</td>\n",
       "      <td>36.389999</td>\n",
       "      <td>36.389999</td>\n",
       "      <td>30511900</td>\n",
       "    </tr>\n",
       "    <tr>\n",
       "      <th>2023-12-22</th>\n",
       "      <td>36.500000</td>\n",
       "      <td>36.799999</td>\n",
       "      <td>36.369999</td>\n",
       "      <td>36.740002</td>\n",
       "      <td>36.740002</td>\n",
       "      <td>31234700</td>\n",
       "    </tr>\n",
       "    <tr>\n",
       "      <th>2023-12-26</th>\n",
       "      <td>36.860001</td>\n",
       "      <td>37.369999</td>\n",
       "      <td>36.830002</td>\n",
       "      <td>37.330002</td>\n",
       "      <td>37.330002</td>\n",
       "      <td>23466800</td>\n",
       "    </tr>\n",
       "    <tr>\n",
       "      <th>2023-12-27</th>\n",
       "      <td>37.320000</td>\n",
       "      <td>37.430000</td>\n",
       "      <td>37.130001</td>\n",
       "      <td>37.360001</td>\n",
       "      <td>37.360001</td>\n",
       "      <td>19588500</td>\n",
       "    </tr>\n",
       "    <tr>\n",
       "      <th>2023-12-28</th>\n",
       "      <td>37.230000</td>\n",
       "      <td>37.360001</td>\n",
       "      <td>37.040001</td>\n",
       "      <td>37.240002</td>\n",
       "      <td>37.240002</td>\n",
       "      <td>21421900</td>\n",
       "    </tr>\n",
       "  </tbody>\n",
       "</table>\n",
       "<p>5766 rows × 6 columns</p>\n",
       "</div>"
      ],
      "text/plain": [
       "                 Open       High        Low      Close  Adj Close    Volume\n",
       "Date                                                                       \n",
       "2001-01-01   5.722500   5.722500   5.722500   5.722500   1.412932         0\n",
       "2001-01-02   5.725000   5.971250   5.725000   5.912500   1.459845  32521600\n",
       "2001-01-03   5.887500   6.212500   5.825000   6.212500   1.533918  60508800\n",
       "2001-01-04   6.216250   6.268750   6.196250   6.237500   1.540091  46118400\n",
       "2001-01-05   6.250000   6.387500   6.162500   6.250000   1.543177  41360000\n",
       "...               ...        ...        ...        ...        ...       ...\n",
       "2023-12-21  36.669998  36.680000  36.070000  36.389999  36.389999  30511900\n",
       "2023-12-22  36.500000  36.799999  36.369999  36.740002  36.740002  31234700\n",
       "2023-12-26  36.860001  37.369999  36.830002  37.330002  37.330002  23466800\n",
       "2023-12-27  37.320000  37.430000  37.130001  37.360001  37.360001  19588500\n",
       "2023-12-28  37.230000  37.360001  37.040001  37.240002  37.240002  21421900\n",
       "\n",
       "[5766 rows x 6 columns]"
      ]
     },
     "execution_count": 22,
     "metadata": {},
     "output_type": "execute_result"
    }
   ],
   "source": [
    "dados_ativo = yf.download(ativo, dataInicio, dataFim) #ativo(var),DataInicio,DataFim\n",
    "dados_ativo"
   ]
  },
  {
   "cell_type": "code",
   "execution_count": 23,
   "metadata": {},
   "outputs": [
    {
     "data": {
      "text/plain": [
       "<Axes: xlabel='Date'>"
      ]
     },
     "execution_count": 23,
     "metadata": {},
     "output_type": "execute_result"
    },
    {
     "data": {
      "image/png": "[encoded data removed]",
      "text/plain": [
       "<Figure size 640x480 with 1 Axes>"
      ]
     },
     "metadata": {},
     "output_type": "display_data"
    }
   ],
   "source": [
    "dados_ativo['Adj Close'].plot() #Capturar dados fechamento ajustado(adj Close)"
   ]
  },
  {
   "cell_type": "code",
   "execution_count": null,
   "metadata": {},
   "outputs": [],
   "source": [
    "#Calcular Retornos\n",
    "dados_ativo['retornos'] = dados_ativo['Adj Close'].pct_change().dropna() #Criar uma nova coluna que pega a coluna 'Adj Close' = retorno diário do Ativo\n",
    "dados_ativo"
   ]
  },
  {
   "cell_type": "code",
   "execution_count": null,
   "metadata": {},
   "outputs": [],
   "source": [
    "#TESTE\n",
    "retorno = -1\n",
    "filtrando_retorno = lambda x: x if x> 0 else 0 #lambda= retorna a ele mesmo, função auto-referente, x = valor de exemplo\n",
    "\n",
    "filtrando_retorno(retorno)"
   ]
  },
  {
   "cell_type": "code",
   "execution_count": null,
   "metadata": {},
   "outputs": [],
   "source": [
    "#Separar retornos Positivos e Negativos\n",
    "dados_ativo['retornos_positivos'] = dados_ativo['retornos'].apply(lambda x: x if x > 0 else 0) #Aplicando a funcao lambda para valores positivos\n",
    "dados_ativo['retornos_negativos'] = dados_ativo['retornos'].apply(lambda x: abs(x) if x < 0 else 0) #abs(x) = pega o valor absoluto\n",
    "\n",
    "dados_ativo"
   ]
  },
  {
   "cell_type": "code",
   "execution_count": null,
   "metadata": {},
   "outputs": [],
   "source": [
    "#Calcular média dos retornos positivos e negativos nos últimos 22 dias\n",
    "dados_ativo['media_retornos_positivos'] = dados_ativo['retornos_positivos'].rolling(window = 22).mean()#cria um coluna com uma janela de 22 dias e calcula a média\n",
    "dados_ativo['media_retornos_negativos'] = dados_ativo['retornos_negativos'].rolling(window = 22).mean()\n",
    "\n",
    "dados_ativo = dados_ativo.dropna() #Mostrar sem o NAN\n",
    "\n",
    "dados_ativo"
   ]
  },
  {
   "cell_type": "code",
   "execution_count": null,
   "metadata": {},
   "outputs": [],
   "source": [
    "#Calcular RSI\n",
    "#Fórmula = 100 - 100(1 + mediaRetornosPositivos/mediaRetornosNegativos)\n",
    "\n",
    "dados_ativo['RSI'] = (100 - 100/(1+ dados_ativo['media_retornos_positivos']/dados_ativo['media_retornos_negativos']))\n",
    "\n",
    "dados_ativo.head(50) #Printa 50 dados"
   ]
  },
  {
   "cell_type": "code",
   "execution_count": 32,
   "metadata": {},
   "outputs": [
    {
     "data": {
      "text/html": [
       "<div>\n",
       "<style scoped>\n",
       "    .dataframe tbody tr th:only-of-type {\n",
       "        vertical-align: middle;\n",
       "    }\n",
       "\n",
       "    .dataframe tbody tr th {\n",
       "        vertical-align: top;\n",
       "    }\n",
       "\n",
       "    .dataframe thead th {\n",
       "        text-align: right;\n",
       "    }\n",
       "</style>\n",
       "<table border=\"1\" class=\"dataframe\">\n",
       "  <thead>\n",
       "    <tr style=\"text-align: right;\">\n",
       "      <th></th>\n",
       "      <th>Open</th>\n",
       "      <th>High</th>\n",
       "      <th>Low</th>\n",
       "      <th>Close</th>\n",
       "      <th>Adj Close</th>\n",
       "      <th>Volume</th>\n",
       "      <th>retornos</th>\n",
       "      <th>retornos_positivos</th>\n",
       "      <th>retornos_negativos</th>\n",
       "      <th>media_retornos_positivos</th>\n",
       "      <th>media_retornos_negativos</th>\n",
       "      <th>RSI</th>\n",
       "      <th>compra</th>\n",
       "    </tr>\n",
       "    <tr>\n",
       "      <th>Date</th>\n",
       "      <th></th>\n",
       "      <th></th>\n",
       "      <th></th>\n",
       "      <th></th>\n",
       "      <th></th>\n",
       "      <th></th>\n",
       "      <th></th>\n",
       "      <th></th>\n",
       "      <th></th>\n",
       "      <th></th>\n",
       "      <th></th>\n",
       "      <th></th>\n",
       "      <th></th>\n",
       "    </tr>\n",
       "  </thead>\n",
       "  <tbody>\n",
       "    <tr>\n",
       "      <th>2001-01-30</th>\n",
       "      <td>6.800000</td>\n",
       "      <td>6.862500</td>\n",
       "      <td>6.748750</td>\n",
       "      <td>6.806250</td>\n",
       "      <td>1.680520</td>\n",
       "      <td>24995200</td>\n",
       "      <td>0.000919</td>\n",
       "      <td>0.000919</td>\n",
       "      <td>0.000000</td>\n",
       "      <td>0.010539</td>\n",
       "      <td>0.002502</td>\n",
       "      <td>80.815783</td>\n",
       "      <td>nao</td>\n",
       "    </tr>\n",
       "    <tr>\n",
       "      <th>2001-01-31</th>\n",
       "      <td>6.806250</td>\n",
       "      <td>6.923750</td>\n",
       "      <td>6.775000</td>\n",
       "      <td>6.813750</td>\n",
       "      <td>1.682371</td>\n",
       "      <td>34620800</td>\n",
       "      <td>0.001102</td>\n",
       "      <td>0.001102</td>\n",
       "      <td>0.000000</td>\n",
       "      <td>0.010589</td>\n",
       "      <td>0.002502</td>\n",
       "      <td>80.889163</td>\n",
       "      <td>nao</td>\n",
       "    </tr>\n",
       "    <tr>\n",
       "      <th>2001-02-01</th>\n",
       "      <td>6.812500</td>\n",
       "      <td>6.850000</td>\n",
       "      <td>6.675000</td>\n",
       "      <td>6.725000</td>\n",
       "      <td>1.660458</td>\n",
       "      <td>43728000</td>\n",
       "      <td>-0.013025</td>\n",
       "      <td>0.000000</td>\n",
       "      <td>0.013025</td>\n",
       "      <td>0.009080</td>\n",
       "      <td>0.003094</td>\n",
       "      <td>74.586174</td>\n",
       "      <td>nao</td>\n",
       "    </tr>\n",
       "    <tr>\n",
       "      <th>2001-02-02</th>\n",
       "      <td>6.662500</td>\n",
       "      <td>6.793750</td>\n",
       "      <td>6.662500</td>\n",
       "      <td>6.725000</td>\n",
       "      <td>1.660458</td>\n",
       "      <td>17532800</td>\n",
       "      <td>0.000000</td>\n",
       "      <td>0.000000</td>\n",
       "      <td>0.000000</td>\n",
       "      <td>0.006774</td>\n",
       "      <td>0.003094</td>\n",
       "      <td>68.646228</td>\n",
       "      <td>nao</td>\n",
       "    </tr>\n",
       "    <tr>\n",
       "      <th>2001-02-05</th>\n",
       "      <td>6.725000</td>\n",
       "      <td>6.750000</td>\n",
       "      <td>6.662500</td>\n",
       "      <td>6.700000</td>\n",
       "      <td>1.654285</td>\n",
       "      <td>21875200</td>\n",
       "      <td>-0.003717</td>\n",
       "      <td>0.000000</td>\n",
       "      <td>0.003717</td>\n",
       "      <td>0.006591</td>\n",
       "      <td>0.003263</td>\n",
       "      <td>66.887052</td>\n",
       "      <td>nao</td>\n",
       "    </tr>\n",
       "    <tr>\n",
       "      <th>...</th>\n",
       "      <td>...</td>\n",
       "      <td>...</td>\n",
       "      <td>...</td>\n",
       "      <td>...</td>\n",
       "      <td>...</td>\n",
       "      <td>...</td>\n",
       "      <td>...</td>\n",
       "      <td>...</td>\n",
       "      <td>...</td>\n",
       "      <td>...</td>\n",
       "      <td>...</td>\n",
       "      <td>...</td>\n",
       "      <td>...</td>\n",
       "    </tr>\n",
       "    <tr>\n",
       "      <th>2023-12-21</th>\n",
       "      <td>36.669998</td>\n",
       "      <td>36.680000</td>\n",
       "      <td>36.070000</td>\n",
       "      <td>36.389999</td>\n",
       "      <td>36.389999</td>\n",
       "      <td>30511900</td>\n",
       "      <td>0.000275</td>\n",
       "      <td>0.000275</td>\n",
       "      <td>0.000000</td>\n",
       "      <td>0.006354</td>\n",
       "      <td>0.004496</td>\n",
       "      <td>58.559932</td>\n",
       "      <td>nao</td>\n",
       "    </tr>\n",
       "    <tr>\n",
       "      <th>2023-12-22</th>\n",
       "      <td>36.500000</td>\n",
       "      <td>36.799999</td>\n",
       "      <td>36.369999</td>\n",
       "      <td>36.740002</td>\n",
       "      <td>36.740002</td>\n",
       "      <td>31234700</td>\n",
       "      <td>0.009618</td>\n",
       "      <td>0.009618</td>\n",
       "      <td>0.000000</td>\n",
       "      <td>0.006602</td>\n",
       "      <td>0.004496</td>\n",
       "      <td>59.487828</td>\n",
       "      <td>nao</td>\n",
       "    </tr>\n",
       "    <tr>\n",
       "      <th>2023-12-26</th>\n",
       "      <td>36.860001</td>\n",
       "      <td>37.369999</td>\n",
       "      <td>36.830002</td>\n",
       "      <td>37.330002</td>\n",
       "      <td>37.330002</td>\n",
       "      <td>23466800</td>\n",
       "      <td>0.016059</td>\n",
       "      <td>0.016059</td>\n",
       "      <td>0.000000</td>\n",
       "      <td>0.007319</td>\n",
       "      <td>0.004496</td>\n",
       "      <td>61.946361</td>\n",
       "      <td>nao</td>\n",
       "    </tr>\n",
       "    <tr>\n",
       "      <th>2023-12-27</th>\n",
       "      <td>37.320000</td>\n",
       "      <td>37.430000</td>\n",
       "      <td>37.130001</td>\n",
       "      <td>37.360001</td>\n",
       "      <td>37.360001</td>\n",
       "      <td>19588500</td>\n",
       "      <td>0.000804</td>\n",
       "      <td>0.000804</td>\n",
       "      <td>0.000000</td>\n",
       "      <td>0.007226</td>\n",
       "      <td>0.004496</td>\n",
       "      <td>61.645379</td>\n",
       "      <td>nao</td>\n",
       "    </tr>\n",
       "    <tr>\n",
       "      <th>2023-12-28</th>\n",
       "      <td>37.230000</td>\n",
       "      <td>37.360001</td>\n",
       "      <td>37.040001</td>\n",
       "      <td>37.240002</td>\n",
       "      <td>37.240002</td>\n",
       "      <td>21421900</td>\n",
       "      <td>-0.003212</td>\n",
       "      <td>0.000000</td>\n",
       "      <td>0.003212</td>\n",
       "      <td>0.007226</td>\n",
       "      <td>0.004384</td>\n",
       "      <td>62.238724</td>\n",
       "      <td>nao</td>\n",
       "    </tr>\n",
       "  </tbody>\n",
       "</table>\n",
       "<p>5745 rows × 13 columns</p>\n",
       "</div>"
      ],
      "text/plain": [
       "                 Open       High        Low      Close  Adj Close    Volume  \\\n",
       "Date                                                                          \n",
       "2001-01-30   6.800000   6.862500   6.748750   6.806250   1.680520  24995200   \n",
       "2001-01-31   6.806250   6.923750   6.775000   6.813750   1.682371  34620800   \n",
       "2001-02-01   6.812500   6.850000   6.675000   6.725000   1.660458  43728000   \n",
       "2001-02-02   6.662500   6.793750   6.662500   6.725000   1.660458  17532800   \n",
       "2001-02-05   6.725000   6.750000   6.662500   6.700000   1.654285  21875200   \n",
       "...               ...        ...        ...        ...        ...       ...   \n",
       "2023-12-21  36.669998  36.680000  36.070000  36.389999  36.389999  30511900   \n",
       "2023-12-22  36.500000  36.799999  36.369999  36.740002  36.740002  31234700   \n",
       "2023-12-26  36.860001  37.369999  36.830002  37.330002  37.330002  23466800   \n",
       "2023-12-27  37.320000  37.430000  37.130001  37.360001  37.360001  19588500   \n",
       "2023-12-28  37.230000  37.360001  37.040001  37.240002  37.240002  21421900   \n",
       "\n",
       "            retornos  retornos_positivos  retornos_negativos  \\\n",
       "Date                                                           \n",
       "2001-01-30  0.000919            0.000919            0.000000   \n",
       "2001-01-31  0.001102            0.001102            0.000000   \n",
       "2001-02-01 -0.013025            0.000000            0.013025   \n",
       "2001-02-02  0.000000            0.000000            0.000000   \n",
       "2001-02-05 -0.003717            0.000000            0.003717   \n",
       "...              ...                 ...                 ...   \n",
       "2023-12-21  0.000275            0.000275            0.000000   \n",
       "2023-12-22  0.009618            0.009618            0.000000   \n",
       "2023-12-26  0.016059            0.016059            0.000000   \n",
       "2023-12-27  0.000804            0.000804            0.000000   \n",
       "2023-12-28 -0.003212            0.000000            0.003212   \n",
       "\n",
       "            media_retornos_positivos  media_retornos_negativos        RSI  \\\n",
       "Date                                                                        \n",
       "2001-01-30                  0.010539                  0.002502  80.815783   \n",
       "2001-01-31                  0.010589                  0.002502  80.889163   \n",
       "2001-02-01                  0.009080                  0.003094  74.586174   \n",
       "2001-02-02                  0.006774                  0.003094  68.646228   \n",
       "2001-02-05                  0.006591                  0.003263  66.887052   \n",
       "...                              ...                       ...        ...   \n",
       "2023-12-21                  0.006354                  0.004496  58.559932   \n",
       "2023-12-22                  0.006602                  0.004496  59.487828   \n",
       "2023-12-26                  0.007319                  0.004496  61.946361   \n",
       "2023-12-27                  0.007226                  0.004496  61.645379   \n",
       "2023-12-28                  0.007226                  0.004384  62.238724   \n",
       "\n",
       "           compra  \n",
       "Date               \n",
       "2001-01-30    nao  \n",
       "2001-01-31    nao  \n",
       "2001-02-01    nao  \n",
       "2001-02-02    nao  \n",
       "2001-02-05    nao  \n",
       "...           ...  \n",
       "2023-12-21    nao  \n",
       "2023-12-22    nao  \n",
       "2023-12-26    nao  \n",
       "2023-12-27    nao  \n",
       "2023-12-28    nao  \n",
       "\n",
       "[5745 rows x 13 columns]"
      ]
     },
     "execution_count": 32,
     "metadata": {},
     "output_type": "execute_result"
    }
   ],
   "source": [
    "#Sinal de compra e venda (abaixo de 30 = sinal de compra)\n",
    "dados_ativo.loc[dados_ativo['RSI'] < 30, 'compra'] = 'sim' #Verifica se o valor de RSI é maior ou menor que 30, sinalizando ou não a compra\n",
    "dados_ativo.loc[dados_ativo['RSI'] > 30, 'compra'] = 'nao' #.loc = localizar um valor\n",
    "\n",
    "dados_ativo"
   ]
  },
  {
   "cell_type": "code",
   "execution_count": null,
   "metadata": {},
   "outputs": [],
   "source": [
    "#Buscar datas de compra e de vendas\n",
    "datas_compra = []\n",
    "datas_venda = []\n",
    "\n",
    "for i in range(len(dados_ativo)):\n",
    "  print(i)\n",
    "\n",
    "  if \"sim\" in dados_ativo['compra'].iloc[i]: #se o sim está dentro dessa coluna, e então ele pegará os dados de abertura do próximo dia\n",
    "    datas_compra.append(dados_ativo.iloc[i+1].name) #.name = valor da coluna\n",
    "\n",
    "datas_compra"
   ]
  },
  {
   "cell_type": "code",
   "execution_count": null,
   "metadata": {},
   "outputs": [],
   "source": [
    "#Buscar datas de venda:\n",
    "#     Se valor de RSI está acima de 40\n",
    "#     10 dias de operação\n",
    "\n",
    "data_compra = []\n",
    "data_venda = []\n",
    "\n",
    "for i in range(len(dados_ativo)):\n",
    "\n",
    "    if \"sim\" in dados_ativo['compra'].iloc[i]:\n",
    "\n",
    "        data_compra.append(dados_ativo.iloc[i+1].name) # +1 porque a gente compra no preço de abertura do dia seguinte.\n",
    "\n",
    "        for j in range(1, 11):\n",
    "\n",
    "            if dados_ativo['RSI'].iloc[i + j] > 40: #vendo se nos proximos 10 dias o RSI passa de 40\n",
    "\n",
    "                data_venda.append(dados_ativo.iloc[i + j + 1].name) #vende no dia seguinte q bater 40\n",
    "                break\n",
    "\n",
    "            elif j == 10:\n",
    "                data_venda.append(dados_ativo.iloc[i + j + 1].name)\n",
    "\n",
    "\n",
    "\n",
    "data_venda"
   ]
  },
  {
   "cell_type": "code",
   "execution_count": 35,
   "metadata": {},
   "outputs": [
    {
     "data": {
      "text/plain": [
       "[<matplotlib.lines.Line2D at 0x21c30e86930>]"
      ]
     },
     "execution_count": 35,
     "metadata": {},
     "output_type": "execute_result"
    },
    {
     "data": {
      "image/png": "[encoded data removed]",
      "text/plain": [
       "<Figure size 1200x500 with 1 Axes>"
      ]
     },
     "metadata": {},
     "output_type": "display_data"
    }
   ],
   "source": [
    "#Visualização de pontos de compra\n",
    "plt.figure(figsize = (12, 5))\n",
    "plt.scatter(dados_ativo.loc[data_compra].index, dados_ativo.loc[data_compra]['Adj Close'], marker = \"^\",c='g')\n",
    "plt.plot(dados_ativo['Adj Close'], alpha = 0.7)"
   ]
  },
  {
   "cell_type": "code",
   "execution_count": null,
   "metadata": {},
   "outputs": [],
   "source": [
    "lucros = dados_ativo.loc[data_venda]['Open'].values/dados_ativo.loc[data_compra]['Open'].values - 1\n",
    "\n",
    "lucros"
   ]
  },
  {
   "cell_type": "code",
   "execution_count": null,
   "metadata": {},
   "outputs": [],
   "source": [
    "operacoes_vencedoras = len(lucros[lucros > 0])/len(lucros)\n",
    "\n",
    "operacoes_vencedoras #Neste caso 58% dos casos a gente ganha aplicando tal modelo"
   ]
  },
  {
   "cell_type": "code",
   "execution_count": null,
   "metadata": {},
   "outputs": [],
   "source": [
    "media_ganhos = np.mean(lucros[lucros > 0])\n",
    "\n",
    "media_ganhos * 100 #7.02% média de ganho"
   ]
  },
  {
   "cell_type": "code",
   "execution_count": null,
   "metadata": {},
   "outputs": [],
   "source": [
    "media_perdas = abs(np.mean(lucros[lucros < 0]))\n",
    "\n",
    "media_perdas * 100 #5.93% média de perda"
   ]
  },
  {
   "cell_type": "code",
   "execution_count": null,
   "metadata": {},
   "outputs": [],
   "source": [
    "expectativa_matematica_modelo = (operacoes_vencedoras * media_ganhos) - ((1 - operacoes_vencedoras) * media_perdas)\n",
    "\n",
    "expectativa_matematica_modelo * 100 #Para cada operacao, quanto você irá ganhar (em relação a média de ganhos e a média de perdas), nesse exemplo.: 1.48%"
   ]
  },
  {
   "cell_type": "code",
   "execution_count": null,
   "metadata": {},
   "outputs": [],
   "source": [
    "performance_acumulada = (np.cumprod((1 + lucros)) - 1)\n",
    "\n",
    "performance_acumulada * 100 #acumulando os lucros (rentabilidade acumulada)"
   ]
  },
  {
   "cell_type": "code",
   "execution_count": 42,
   "metadata": {},
   "outputs": [
    {
     "data": {
      "text/plain": [
       "[<matplotlib.lines.Line2D at 0x21c30e03800>]"
      ]
     },
     "execution_count": 42,
     "metadata": {},
     "output_type": "execute_result"
    },
    {
     "data": {
      "image/png": "[encoded data removed]",
      "text/plain": [
       "<Figure size 1200x500 with 1 Axes>"
      ]
     },
     "metadata": {},
     "output_type": "display_data"
    }
   ],
   "source": [
    "plt.figure(figsize = (12, 5))\n",
    "plt.plot(data_compra, performance_acumulada) #Visualização do lucro acumulado 12.: 1200% de valorização"
   ]
  },
  {
   "cell_type": "code",
   "execution_count": null,
   "metadata": {},
   "outputs": [],
   "source": [
    "retorno_buy_and_hold = dados_ativo['Adj Close'].iloc[-1]/dados_ativo['Adj Close'].iloc[0] - 1\n",
    "\n",
    "retorno_buy_and_hold * 100 #Quanto rendeu desde da data de inicio"
   ]
  }
 ],
 "metadata": {
  "kernelspec": {
   "display_name": "Python 3",
   "language": "python",
   "name": "python3"
  },
  "language_info": {
   "codemirror_mode": {
    "name": "ipython",
    "version": 3
   },
   "file_extension": ".py",
   "mimetype": "text/x-python",
   "name": "python",
   "nbconvert_exporter": "python",
   "pygments_lexer": "ipython3",
   "version": "3.12.0"
  }
 },
 "nbformat": 4,
 "nbformat_minor": 2
}
